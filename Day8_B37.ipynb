{
 "cells": [
  {
   "cell_type": "code",
   "execution_count": null,
   "metadata": {},
   "outputs": [],
   "source": [
    "continuation with dictionaries:\n",
    "\n"
   ]
  },
  {
   "cell_type": "code",
   "execution_count": 3,
   "metadata": {},
   "outputs": [
    {
     "data": {
      "text/plain": [
       "dict"
      ]
     },
     "execution_count": 3,
     "metadata": {},
     "output_type": "execute_result"
    }
   ],
   "source": [
    "\n",
    "alien = {'color':'green','points':5}\n",
    "\n",
    "type(alien)\n"
   ]
  },
  {
   "cell_type": "code",
   "execution_count": 4,
   "metadata": {},
   "outputs": [
    {
     "name": "stdout",
     "output_type": "stream",
     "text": [
      "green\n",
      "5\n"
     ]
    }
   ],
   "source": [
    "\n",
    "# how to access values from the dictionary ...!\n",
    "\n",
    "print(alien['color'])\n",
    "\n",
    "print(alien['points'])\n",
    "\n"
   ]
  },
  {
   "cell_type": "code",
   "execution_count": 6,
   "metadata": {},
   "outputs": [],
   "source": [
    "\n",
    "\n",
    "# how to add new key value pairs ...!\n",
    "\n",
    "alien['start_position'] = 0\n",
    "\n",
    "alien['current_position'] = 15\n",
    "\n"
   ]
  },
  {
   "cell_type": "code",
   "execution_count": null,
   "metadata": {},
   "outputs": [],
   "source": [
    "\n",
    "\n",
    "# how to modify the key value pairs ...?\n",
    "\n"
   ]
  },
  {
   "cell_type": "code",
   "execution_count": 7,
   "metadata": {},
   "outputs": [
    {
     "name": "stdout",
     "output_type": "stream",
     "text": [
      "{'color': 'yellow', 'points': 10, 'start_position': 0, 'current_position': 15}\n"
     ]
    }
   ],
   "source": [
    "# req: change the color of alien from green to yellow\n",
    "\n",
    "# change the points to 10.\n",
    "\n",
    "alien['color'] = 'yellow'\n",
    "\n",
    "alien['points'] = 10\n",
    "\n",
    "print(alien)\n",
    "\n"
   ]
  },
  {
   "cell_type": "code",
   "execution_count": null,
   "metadata": {},
   "outputs": [],
   "source": [
    "\n",
    "# how to delete key value pairs from the dictionary:\n"
   ]
  },
  {
   "cell_type": "code",
   "execution_count": 8,
   "metadata": {},
   "outputs": [
    {
     "name": "stdout",
     "output_type": "stream",
     "text": [
      "{'color': 'yellow', 'points': 10, 'current_position': 15}\n"
     ]
    }
   ],
   "source": [
    "\n",
    "# req: delete the start_position ...?\n",
    "\n",
    "del alien['start_position']\n",
    "\n",
    "print(alien)\n"
   ]
  },
  {
   "cell_type": "code",
   "execution_count": null,
   "metadata": {},
   "outputs": [],
   "source": [
    "\n",
    "# imlementation of for loop under a dictionary :\n",
    "\n",
    "# general syntax :\n",
    "\n",
    "for tempvar1, tepmvar2 in mainvar.items():\n",
    "    print(tempvar1)\n",
    "    print(tempvar2)\n",
    "\n"
   ]
  },
  {
   "cell_type": "code",
   "execution_count": 9,
   "metadata": {},
   "outputs": [
    {
     "name": "stdout",
     "output_type": "stream",
     "text": [
      "color\n",
      "yellow\n",
      "points\n",
      "10\n",
      "current_position\n",
      "15\n"
     ]
    }
   ],
   "source": [
    "\n",
    "for x,y in alien.items():\n",
    "    print(x)\n",
    "    print(y)\n"
   ]
  },
  {
   "cell_type": "code",
   "execution_count": 10,
   "metadata": {},
   "outputs": [
    {
     "name": "stdout",
     "output_type": "stream",
     "text": [
      "key = color\n",
      "value = yellow\n",
      "key = points\n",
      "value = 10\n",
      "key = current_position\n",
      "value = 15\n"
     ]
    }
   ],
   "source": [
    "\n",
    "# enhancement of the code...!\n",
    "\n",
    "for x,y in alien.items():\n",
    "    print(f\"key = {x}\")\n",
    "    print(f\"value = {y}\")\n",
    "\n"
   ]
  },
  {
   "cell_type": "code",
   "execution_count": null,
   "metadata": {},
   "outputs": [],
   "source": []
  },
  {
   "cell_type": "code",
   "execution_count": null,
   "metadata": {},
   "outputs": [],
   "source": []
  },
  {
   "cell_type": "code",
   "execution_count": null,
   "metadata": {},
   "outputs": [],
   "source": []
  },
  {
   "cell_type": "code",
   "execution_count": null,
   "metadata": {},
   "outputs": [],
   "source": []
  }
 ],
 "metadata": {
  "kernelspec": {
   "display_name": "Python 3",
   "language": "python",
   "name": "python3"
  },
  "language_info": {
   "codemirror_mode": {
    "name": "ipython",
    "version": 3
   },
   "file_extension": ".py",
   "mimetype": "text/x-python",
   "name": "python",
   "nbconvert_exporter": "python",
   "pygments_lexer": "ipython3",
   "version": "3.8.5"
  }
 },
 "nbformat": 4,
 "nbformat_minor": 4
}

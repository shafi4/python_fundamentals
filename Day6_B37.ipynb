{
 "cells": [
  {
   "cell_type": "code",
   "execution_count": 1,
   "metadata": {},
   "outputs": [
    {
     "name": "stdout",
     "output_type": "stream",
     "text": [
      "['shafi', 'akshay', 'brhahim', 'kavya', 'swetha', 'sumaya', 'venu', 'dinesh']\n"
     ]
    }
   ],
   "source": [
    "students= ['shafi','akshay','brhahim','kavya','swetha','sumaya','venu','dinesh']\n",
    "print(students)"
   ]
  },
  {
   "cell_type": "code",
   "execution_count": 2,
   "metadata": {},
   "outputs": [
    {
     "name": "stdout",
     "output_type": "stream",
     "text": [
      "shafi\n"
     ]
    }
   ],
   "source": [
    "#req: i want to appreciate all the students in the above list\n",
    "print(students[0])"
   ]
  },
  {
   "cell_type": "code",
   "execution_count": 3,
   "metadata": {},
   "outputs": [
    {
     "name": "stdout",
     "output_type": "stream",
     "text": [
      "keep up the goodwork, Shafi\n"
     ]
    }
   ],
   "source": [
    "print(f\"keep up the goodwork, {students[0].title()}\")"
   ]
  },
  {
   "cell_type": "code",
   "execution_count": 6,
   "metadata": {},
   "outputs": [
    {
     "data": {
      "text/plain": [
       "list"
      ]
     },
     "execution_count": 6,
     "metadata": {},
     "output_type": "execute_result"
    }
   ],
   "source": [
    "type(students)"
   ]
  },
  {
   "cell_type": "code",
   "execution_count": 9,
   "metadata": {},
   "outputs": [
    {
     "name": "stdout",
     "output_type": "stream",
     "text": [
      "keep u the goodwork, Akshay\n"
     ]
    }
   ],
   "source": [
    "print(f'keep u the goodwork, {students[1].title()}')"
   ]
  },
  {
   "cell_type": "code",
   "execution_count": 10,
   "metadata": {},
   "outputs": [
    {
     "name": "stdout",
     "output_type": "stream",
     "text": [
      "keep u the goodwork, Brhahim\n"
     ]
    }
   ],
   "source": [
    "print(f'keep u the goodwork, {students[2].title()}')"
   ]
  },
  {
   "cell_type": "code",
   "execution_count": null,
   "metadata": {},
   "outputs": [],
   "source": [
    "# introduction to for loops\n",
    "\n",
    "# General syntax of a for loop:\n",
    "\n",
    "for tempvar in mainvar:\n",
    "    print(tempvar)"
   ]
  },
  {
   "cell_type": "code",
   "execution_count": 5,
   "metadata": {},
   "outputs": [
    {
     "name": "stdout",
     "output_type": "stream",
     "text": [
      "keep up the goodwork, Shafi\n",
      "keep up the goodwork, Akshay\n",
      "keep up the goodwork, Brhahim\n",
      "keep up the goodwork, Kavya\n",
      "keep up the goodwork, Swetha\n",
      "keep up the goodwork, Sumaya\n",
      "keep up the goodwork, Venu\n",
      "keep up the goodwork, Dinesh\n"
     ]
    }
   ],
   "source": [
    "for x in students:\n",
    "    print(f\"keep up the goodwork, {x.title()}\")"
   ]
  },
  {
   "cell_type": "code",
   "execution_count": 11,
   "metadata": {},
   "outputs": [],
   "source": [
    "# enhancement of the code.\n",
    "# I also wnat to let them know that I am looking for the practicw file of today"
   ]
  },
  {
   "cell_type": "code",
   "execution_count": null,
   "metadata": {},
   "outputs": [],
   "source": []
  },
  {
   "cell_type": "code",
   "execution_count": 11,
   "metadata": {},
   "outputs": [
    {
     "name": "stdout",
     "output_type": "stream",
     "text": [
      "keep up the goodwork, Shafi\n",
      "I am looking forward to receive your practice paper files, Shafi.\n",
      "keep up the goodwork, Akshay\n",
      "I am looking forward to receive your practice paper files, Akshay.\n",
      "keep up the goodwork, Brhahim\n",
      "I am looking forward to receive your practice paper files, Brhahim.\n",
      "keep up the goodwork, Kavya\n",
      "I am looking forward to receive your practice paper files, Kavya.\n",
      "keep up the goodwork, Swetha\n",
      "I am looking forward to receive your practice paper files, Swetha.\n",
      "keep up the goodwork, Sumaya\n",
      "I am looking forward to receive your practice paper files, Sumaya.\n",
      "keep up the goodwork, Venu\n",
      "I am looking forward to receive your practice paper files, Venu.\n",
      "keep up the goodwork, Dinesh\n",
      "I am looking forward to receive your practice paper files, Dinesh.\n"
     ]
    }
   ],
   "source": [
    "for a in students:\n",
    "    print(f\"keep up the goodwork, {a.title()}\")\n",
    "    print(f\"I am looking forward to receive your practice paper files, {a.title()}.\")"
   ]
  },
  {
   "cell_type": "code",
   "execution_count": null,
   "metadata": {},
   "outputs": [],
   "source": [
    "# improvisation of the code...!"
   ]
  },
  {
   "cell_type": "code",
   "execution_count": 12,
   "metadata": {},
   "outputs": [
    {
     "name": "stdout",
     "output_type": "stream",
     "text": [
      "keep up the goodwork, Shafi\n",
      "I am looking forward to receive your practice paper files, Shafi.\n",
      "\n",
      "keep up the goodwork, Akshay\n",
      "I am looking forward to receive your practice paper files, Akshay.\n",
      "\n",
      "keep up the goodwork, Brhahim\n",
      "I am looking forward to receive your practice paper files, Brhahim.\n",
      "\n",
      "keep up the goodwork, Kavya\n",
      "I am looking forward to receive your practice paper files, Kavya.\n",
      "\n",
      "keep up the goodwork, Swetha\n",
      "I am looking forward to receive your practice paper files, Swetha.\n",
      "\n",
      "keep up the goodwork, Sumaya\n",
      "I am looking forward to receive your practice paper files, Sumaya.\n",
      "\n",
      "keep up the goodwork, Venu\n",
      "I am looking forward to receive your practice paper files, Venu.\n",
      "\n",
      "keep up the goodwork, Dinesh\n",
      "I am looking forward to receive your practice paper files, Dinesh.\n",
      "\n"
     ]
    }
   ],
   "source": [
    "for a in students:\n",
    "    print(f\"keep up the goodwork, {a.title()}\")\n",
    "    print(f\"I am looking forward to receive your practice paper files, {a.title()}.\\n\")"
   ]
  },
  {
   "cell_type": "code",
   "execution_count": 13,
   "metadata": {},
   "outputs": [],
   "source": [
    "# writing in the loop ...!"
   ]
  },
  {
   "cell_type": "code",
   "execution_count": null,
   "metadata": {},
   "outputs": [],
   "source": []
  },
  {
   "cell_type": "code",
   "execution_count": 16,
   "metadata": {},
   "outputs": [
    {
     "name": "stdout",
     "output_type": "stream",
     "text": [
      "keep up the goodwork, Kavya\n",
      "I am looking forward to reeive your practise files, Kavya.\n",
      "\n",
      "keep up the goodwork, Akshay\n",
      "I am looking forward to reeive your practise files, Akshay.\n",
      "\n",
      "keep up the goodwork, Dinesh\n",
      "I am looking forward to reeive your practise files, Dinesh.\n",
      "\n",
      "keep up the goodwork, Brhahim\n",
      "I am looking forward to reeive your practise files, Brhahim.\n",
      "\n",
      "keep up the goodwork, Shafi\n",
      "I am looking forward to reeive your practise files, Shafi.\n",
      "\n",
      "keep up the goodwork, Sumaya\n",
      "I am looking forward to reeive your practise files, Sumaya.\n",
      "\n",
      "keep up the goodwork, Swetha\n",
      "I am looking forward to reeive your practise files, Swetha.\n",
      "\n",
      "keep up the goodwork, Venu\n",
      "I am looking forward to reeive your practise files, Venu.\n",
      "\n",
      "Thank you all for showing interest in learning python\n"
     ]
    }
   ],
   "source": [
    "for a in students:\n",
    "    print(f\"keep up the goodwork, {a.title()}\")\n",
    "    print(f\"I am looking forward to reeive your practise files, {a.title()}.\\n\")\n",
    "    \n",
    "print('Thank you all for showing interest in learning python')"
   ]
  },
  {
   "cell_type": "code",
   "execution_count": null,
   "metadata": {},
   "outputs": [],
   "source": []
  }
 ],
 "metadata": {
  "kernelspec": {
   "display_name": "Python 3",
   "language": "python",
   "name": "python3"
  },
  "language_info": {
   "codemirror_mode": {
    "name": "ipython",
    "version": 3
   },
   "file_extension": ".py",
   "mimetype": "text/x-python",
   "name": "python",
   "nbconvert_exporter": "python",
   "pygments_lexer": "ipython3",
   "version": "3.8.5"
  }
 },
 "nbformat": 4,
 "nbformat_minor": 4
}
